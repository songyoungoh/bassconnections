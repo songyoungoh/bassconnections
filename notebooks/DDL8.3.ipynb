{
 "cells": [
  {
   "cell_type": "markdown",
   "metadata": {},
   "source": [
    "## Dive into Deep Learning 8.3-8.6"
   ]
  },
  {
   "cell_type": "markdown",
   "metadata": {},
   "source": []
  }
 ],
 "metadata": {
  "kernelspec": {
   "display_name": "Python 3.9.12 ('base')",
   "language": "python",
   "name": "python3"
  },
  "language_info": {
   "name": "python",
   "version": "3.9.12"
  },
  "orig_nbformat": 4,
  "vscode": {
   "interpreter": {
    "hash": "a92526385d613339fdfc3220bd081595a0042773833489b7647304f7dd79b12e"
   }
  }
 },
 "nbformat": 4,
 "nbformat_minor": 2
}
