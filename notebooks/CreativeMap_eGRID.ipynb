{
 "cells": [
  {
   "cell_type": "markdown",
   "metadata": {},
   "source": [
    "## Creative Map using Geospatial Data\n",
    "### Data Source: eGRID"
   ]
  },
  {
   "cell_type": "code",
   "execution_count": 25,
   "metadata": {},
   "outputs": [],
   "source": [
    "import pandas as pd\n",
    "import geopandas as gpd\n",
    "import folium\n",
    "from branca.colormap import LinearColormap"
   ]
  },
  {
   "cell_type": "code",
   "execution_count": 26,
   "metadata": {},
   "outputs": [
    {
     "data": {
      "text/html": [
       "<div>\n",
       "<style scoped>\n",
       "    .dataframe tbody tr th:only-of-type {\n",
       "        vertical-align: middle;\n",
       "    }\n",
       "\n",
       "    .dataframe tbody tr th {\n",
       "        vertical-align: top;\n",
       "    }\n",
       "\n",
       "    .dataframe thead th {\n",
       "        text-align: right;\n",
       "    }\n",
       "</style>\n",
       "<table border=\"1\" class=\"dataframe\">\n",
       "  <thead>\n",
       "    <tr style=\"text-align: right;\">\n",
       "      <th></th>\n",
       "      <th>State abbreviation</th>\n",
       "      <th>State annual CO2 equivalent emissions (tons)</th>\n",
       "      <th>Latitude</th>\n",
       "      <th>Longitude</th>\n",
       "    </tr>\n",
       "  </thead>\n",
       "  <tbody>\n",
       "    <tr>\n",
       "      <th>0</th>\n",
       "      <td>AK</td>\n",
       "      <td>3.050448e+06</td>\n",
       "      <td>61.2181</td>\n",
       "      <td>149.9003</td>\n",
       "    </tr>\n",
       "    <tr>\n",
       "      <th>1</th>\n",
       "      <td>AL</td>\n",
       "      <td>5.384399e+07</td>\n",
       "      <td>32.3792</td>\n",
       "      <td>86.3077</td>\n",
       "    </tr>\n",
       "    <tr>\n",
       "      <th>2</th>\n",
       "      <td>AR</td>\n",
       "      <td>3.339556e+07</td>\n",
       "      <td>34.7465</td>\n",
       "      <td>92.2896</td>\n",
       "    </tr>\n",
       "    <tr>\n",
       "      <th>3</th>\n",
       "      <td>AZ</td>\n",
       "      <td>3.947377e+07</td>\n",
       "      <td>33.4484</td>\n",
       "      <td>112.0740</td>\n",
       "    </tr>\n",
       "    <tr>\n",
       "      <th>4</th>\n",
       "      <td>CA</td>\n",
       "      <td>4.731524e+07</td>\n",
       "      <td>38.5816</td>\n",
       "      <td>121.4944</td>\n",
       "    </tr>\n",
       "  </tbody>\n",
       "</table>\n",
       "</div>"
      ],
      "text/plain": [
       "  State abbreviation  State annual CO2 equivalent emissions (tons)  Latitude  \\\n",
       "0                 AK                                  3.050448e+06   61.2181   \n",
       "1                 AL                                  5.384399e+07   32.3792   \n",
       "2                 AR                                  3.339556e+07   34.7465   \n",
       "3                 AZ                                  3.947377e+07   33.4484   \n",
       "4                 CA                                  4.731524e+07   38.5816   \n",
       "\n",
       "   Longitude  \n",
       "0   149.9003  \n",
       "1    86.3077  \n",
       "2    92.2896  \n",
       "3   112.0740  \n",
       "4   121.4944  "
      ]
     },
     "execution_count": 26,
     "metadata": {},
     "output_type": "execute_result"
    }
   ],
   "source": [
    "# Read eGRID data into a dataframe\n",
    "egrid = pd.read_excel('../data/eGRID_ST21.xlsx', sheet_name='ST21')\n",
    "egrid.head()"
   ]
  },
  {
   "cell_type": "code",
   "execution_count": 27,
   "metadata": {},
   "outputs": [],
   "source": [
    "# Define a custom color scale for CO2 emissions using green to red colormap\n",
    "co2_emissions_colormap = LinearColormap(\n",
    "    [\"#00ff00\", \"#ffff00\", \"#ff9900\", \"#ff0000\"],\n",
    "    vmin=egrid[\"State annual CO2 equivalent emissions (tons)\"].min(),\n",
    "    vmax=egrid[\"State annual CO2 equivalent emissions (tons)\"].max(),\n",
    ")\n",
    "\n",
    "# Map emission value to a color\n",
    "def get_marker_color(emissions):\n",
    "    return co2_emissions_colormap(emissions)\n",
    "\n",
    "# Map emission value to a size\n",
    "def get_marker_size(emissions):\n",
    "    min_size = 10\n",
    "    max_size = 100\n",
    "    min_emissions = egrid[\"State annual CO2 equivalent emissions (tons)\"].min()\n",
    "    max_emissions = egrid[\"State annual CO2 equivalent emissions (tons)\"].max()\n",
    "    normalized_emissions = (emissions - min_emissions) / (max_emissions - min_emissions)\n",
    "    return min_size + normalized_emissions * (max_size - min_size)"
   ]
  },
  {
   "cell_type": "code",
   "execution_count": null,
   "metadata": {},
   "outputs": [],
   "source": [
    "# Load the shapefile of US states boundaries\n",
    "gdf = gpd.read_file(\"../data/tl_rd22_us_state/tl_rd22_us_state.shp\")\n",
    "\n",
    "# Create an interactive folium map\n",
    "m = folium.Map(location=[37, -95], zoom_start=4)\n",
    "\n",
    "# Add a choropleth layer to the map\n",
    "folium.Choropleth(\n",
    "    geo_data=gdf,\n",
    "    data=egrid,\n",
    "    columns=[\"State abbreviation\", \"State annual CO2 equivalent emissions (tons)\"],\n",
    "    fill_color=None,\n",
    "    fill_opacity=0.1,\n",
    "    line_opacity=0.1,\n",
    "    legend_name=\"State annual CO2 equivalent emissions (tons)\",\n",
    "    highlight=True,\n",
    "    name=\"CO2 emissions\",\n",
    ").add_to(m)\n",
    "\n",
    "# Loop through the 'egrid' data to add circle markers to the map\n",
    "for index, row in egrid.iterrows():\n",
    "    state = row[\"State abbreviation\"]\n",
    "    co2_emissions = row[\"State annual CO2 equivalent emissions (tons)\"]\n",
    "    formatted_co2_emissions = \"{:,.0f}\".format(co2_emissions)\n",
    "\n",
    "    # Get the coordinates for the state's centroid from the GeoDataFrame\n",
    "    state_centroid = gdf.loc[gdf[\"STUSPS\"] == state, \"geometry\"].centroid.iloc[0]\n",
    "\n",
    "    # Calculate the marker size based on the CO2 emissions value\n",
    "    marker_size = get_marker_size(co2_emissions)\n",
    "\n",
    "    # Create a circle marker for each state\n",
    "    marker = folium.CircleMarker(\n",
    "        location=[state_centroid.y, state_centroid.x],\n",
    "        radius=marker_size / 2,\n",
    "        tooltip=f\"{state}: {formatted_co2_emissions} tons\",\n",
    "        color=get_marker_color(co2_emissions),\n",
    "        fill=True,\n",
    "        fill_color=get_marker_color(co2_emissions),\n",
    "        fill_opacity=0.6,\n",
    "    ).add_to(m)\n",
    "\n",
    "    # Add a color bar\n",
    "    co2_emissions_colormap.add_to(m)\n",
    "\n",
    "# Display the map\n",
    "m"
   ]
  },
  {
   "cell_type": "code",
   "execution_count": 29,
   "metadata": {},
   "outputs": [],
   "source": [
    "# Save the map as an HTML file\n",
    "m.save(\"CreativeMap_eGRID_CO2.html\")"
   ]
  }
 ],
 "metadata": {
  "kernelspec": {
   "display_name": "Python 3.9.12 ('base')",
   "language": "python",
   "name": "python3"
  },
  "language_info": {
   "codemirror_mode": {
    "name": "ipython",
    "version": 3
   },
   "file_extension": ".py",
   "mimetype": "text/x-python",
   "name": "python",
   "nbconvert_exporter": "python",
   "pygments_lexer": "ipython3",
   "version": "3.9.12"
  },
  "orig_nbformat": 4,
  "vscode": {
   "interpreter": {
    "hash": "a92526385d613339fdfc3220bd081595a0042773833489b7647304f7dd79b12e"
   }
  }
 },
 "nbformat": 4,
 "nbformat_minor": 2
}
