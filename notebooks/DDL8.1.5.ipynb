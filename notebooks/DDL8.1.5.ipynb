{
 "cells": [
  {
   "cell_type": "markdown",
   "metadata": {},
   "source": [
    "## Dive into Deep Learning 8.1.5 (#4-5)"
   ]
  },
  {
   "cell_type": "code",
   "execution_count": null,
   "metadata": {},
   "outputs": [
    {
     "ename": "",
     "evalue": "",
     "output_type": "error",
     "traceback": [
      "\u001b[1;31mFailed to start the Kernel. \n",
      "\u001b[1;31mDaemon Connection Closed\n",
      "\u001b[1;31m/Users/SongYoungOh/opt/anaconda3/lib/python3.9/site-packages/traitlets/traitlets.py:2202: FutureWarning: Supporting extra quotes around strings is deprecated in traitlets 5.0. You can use '/Users/SongYoungOh/Documents/bassconnections/notebooks' instead of '\"/Users/SongYoungOh/Documents/bassconnections/notebooks\"' if you require traitlets >=5.\n",
      "\u001b[1;31m  warn(\n",
      "\u001b[1;31m\n",
      "\u001b[1;31mFailed to run jupyter as observable with args notebook --no-browser --notebook-dir=\"/Users/SongYoungOh/Documents/bassconnections/notebooks\" --config=/var/folders/kh/sr5nlrr10qn_drhwxwt8rqy80000gp/T/46d79739-08f3-490c-a83f-eeb329e6da37/jupyter_notebook_config.py --NotebookApp.iopub_data_rate_limit=10000000000.0\n",
      "\u001b[1;31mrosetta error: Attachment of code signature supplement failed: 1 \n",
      "\u001b[1;31m /var/db/oah/d865dfb0566ec84efbcb71f0ba0689ead7b2ea256f9150256c62f951e29b3869/e6977d1935d389167efb2f994afc1a2e71c45d23a2c2c140d68d06514fb81d53/_multiarray_umath.cpython-39-darwin.so.aot. \n",
      "\u001b[1;31mView Jupyter <a href='command:jupyter.viewOutput'>log</a> for further details."
     ]
    }
   ],
   "source": [
    "import torch\n",
    "from torch import nn\n",
    "from d2l import torch as d2l"
   ]
  },
  {
   "cell_type": "code",
   "execution_count": null,
   "metadata": {},
   "outputs": [],
   "source": []
  }
 ],
 "metadata": {
  "kernelspec": {
   "display_name": "Python 3.9.12 ('base')",
   "language": "python",
   "name": "python3"
  },
  "language_info": {
   "name": "python",
   "version": "3.9.12"
  },
  "orig_nbformat": 4,
  "vscode": {
   "interpreter": {
    "hash": "a92526385d613339fdfc3220bd081595a0042773833489b7647304f7dd79b12e"
   }
  }
 },
 "nbformat": 4,
 "nbformat_minor": 2
}
