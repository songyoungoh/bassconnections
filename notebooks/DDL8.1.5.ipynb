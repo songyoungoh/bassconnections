{
 "cells": [
  {
   "cell_type": "markdown",
   "metadata": {},
   "source": [
    "## Dive into Deep Learning 8.1.5 (#4-5)"
   ]
  },
  {
   "cell_type": "code",
   "execution_count": null,
   "metadata": {},
   "outputs": [],
   "source": [
    "import torch\n",
    "from torch import nn\n",
    "from d2l import torch as d2l\n",
    "import matplotlib.pyplot as plt"
   ]
  },
  {
   "cell_type": "code",
   "execution_count": null,
   "metadata": {},
   "outputs": [],
   "source": [
    "class AlexNet(d2l.Classifier):\n",
    "    \"\"\"AlexNet model.\"\"\"\n",
    "    def __init__(self, lr=0.1, num_classes=10):\n",
    "        super().__init__()\n",
    "        self.save_hyperparameters()\n",
    "        self.net = nn.Sequential(\n",
    "            nn.LazyConv2d(96, kernel_size=11, stride=4, padding=1),\n",
    "            nn.ReLU(), nn.MaxPool2d(kernel_size=3, stride=2),\n",
    "            nn.LazyConv2d(256, kernel_size=5, padding=2), nn.ReLU(),\n",
    "            nn.MaxPool2d(kernel_size=3, stride=2),\n",
    "            nn.LazyConv2d(384, kernel_size=3, padding=1), nn.ReLU(),\n",
    "            nn.LazyConv2d(384, kernel_size=3, padding=1), nn.ReLU(),\n",
    "            nn.LazyConv2d(256, kernel_size=3, padding=1), nn.ReLU(),\n",
    "            nn.MaxPool2d(kernel_size=3, stride=2), nn.Flatten(),\n",
    "            nn.LazyLinear(4096), nn.ReLU(), nn.Dropout(p=0.5),\n",
    "            nn.LazyLinear(4096), nn.ReLU(),nn.Dropout(p=0.5),\n",
    "            nn.LazyLinear(num_classes))\n",
    "        self.net.apply(d2l.init_cnn)"
   ]
  },
  {
   "cell_type": "code",
   "execution_count": null,
   "metadata": {},
   "outputs": [],
   "source": [
    "class LeNet(d2l.Classifier):  #@save\n",
    "    \"\"\"The LeNet-5 model.\"\"\"\n",
    "    def __init__(self, lr=0.1, num_classes=10):\n",
    "        super().__init__()\n",
    "        self.save_hyperparameters()\n",
    "        self.net = nn.Sequential(\n",
    "            nn.LazyConv2d(6, kernel_size=5, padding=2), nn.Sigmoid(),\n",
    "            nn.AvgPool2d(kernel_size=2, stride=2),\n",
    "            nn.LazyConv2d(16, kernel_size=5), nn.Sigmoid(),\n",
    "            nn.AvgPool2d(kernel_size=2, stride=2),\n",
    "            nn.Flatten(),\n",
    "            nn.LazyLinear(120), nn.Sigmoid(),\n",
    "            nn.LazyLinear(84), nn.Sigmoid(),\n",
    "            nn.LazyLinear(num_classes))"
   ]
  },
  {
   "cell_type": "code",
   "execution_count": null,
   "metadata": {},
   "outputs": [],
   "source": [
    "AlexNet().layer_summary((1, 1, 224, 224))"
   ]
  },
  {
   "cell_type": "markdown",
   "metadata": {},
   "source": [
    "### 8.1.5 Exercises (#4)"
   ]
  },
  {
   "cell_type": "code",
   "execution_count": null,
   "metadata": {},
   "outputs": [],
   "source": [
    "model_Alex_10 = AlexNet(lr=0.01)\n",
    "data = d2l.FashionMNIST(batch_size=128, resize=(224, 224))\n",
    "trainer = d2l.Trainer(max_epochs=10, num_gpus=1)\n",
    "trainer.fit(model_Alex_10, data)\n",
    "acc_Alex_10 = model_Alex_10.board.data['val_acc'][-1].y\n",
    "plt.title(f\"AlexNet (10 epochs): {acc_Alex_10*100:.2f}%\")\n",
    "plt.xlabel('Number of Epochs')\n",
    "plt.ylabel('Loss/Accuracy')\n",
    "plt.show()"
   ]
  },
  {
   "cell_type": "code",
   "execution_count": null,
   "metadata": {},
   "outputs": [],
   "source": [
    "model_LeNet_10 = LeNet(lr=0.01)\n",
    "trainer.fit(model_LeNet_10, data)\n",
    "acc_LeNet_10 = model_LeNet_10.board.data['val_acc'][-1].y\n",
    "plt.title(f\"LeNet (10 epochs): {acc_LeNet_10*100:.2f}%\")\n",
    "plt.xlabel('Number of Epochs')\n",
    "plt.ylabel('Loss/Accuracy')\n",
    "plt.show()"
   ]
  },
  {
   "cell_type": "code",
   "execution_count": null,
   "metadata": {},
   "outputs": [],
   "source": [
    "model_Alex_20 = AlexNet(lr=0.01)\n",
    "trainer_epoch20 = d2l.Trainer(max_epochs=20, num_gpus=1)\n",
    "trainer_epoch20.fit(model_Alex_20, data)\n",
    "acc_Alex_20 = model_Alex_20.board.data['val_acc'][-1].y\n",
    "plt.title(f\"AlexNet (20 epochs): {acc_Alex_20*100:.2f}%\")\n",
    "plt.xlabel('Number of Epochs')\n",
    "plt.ylabel('Loss/Accuracy')\n",
    "plt.show()"
   ]
  },
  {
   "cell_type": "code",
   "execution_count": null,
   "metadata": {},
   "outputs": [],
   "source": [
    "model_LeNet_20 = LeNet(lr=0.01)\n",
    "trainer.fit(model_LeNet_20, data)\n",
    "acc_LeNet_20 = model_LeNet_20.board.data['val_acc'][-1].y\n",
    "plt.title(f\"LeNet (20 epochs): {acc_LeNet_20*100:.2f}%\")\n",
    "plt.xlabel('Number of Epochs')\n",
    "plt.ylabel('Loss/Accuracy')\n",
    "plt.show()"
   ]
  },
  {
   "cell_type": "code",
   "execution_count": null,
   "metadata": {},
   "outputs": [],
   "source": [
    "model_Alex_30 = AlexNet(lr=0.01)\n",
    "trainer_epoch30 = d2l.Trainer(max_epochs=30, num_gpus=1)\n",
    "trainer_epoch30.fit(model_Alex_30, data)\n",
    "acc_Alex_30 = model_Alex_30.board.data['val_acc'][-1].y\n",
    "plt.title(f\"AlexNet (30 epochs): {acc_Alex_30*100:.2f}%\")\n",
    "plt.xlabel('Number of Epochs')\n",
    "plt.ylabel('Loss/Accuracy')\n",
    "plt.show()"
   ]
  },
  {
   "cell_type": "code",
   "execution_count": null,
   "metadata": {},
   "outputs": [],
   "source": [
    "model_LeNet_30 = LeNet(lr=0.01)\n",
    "trainer.fit(model_LeNet_30, data)\n",
    "acc_LeNet_30 = model_LeNet_30.board.data['val_acc'][-1].y\n",
    "plt.title(f\"LeNet (30 epochs): {acc_LeNet_30*100:.2f}%\")\n",
    "plt.xlabel('Number of Epochs')\n",
    "plt.ylabel('Loss/Accuracy')\n",
    "plt.show()"
   ]
  },
  {
   "cell_type": "markdown",
   "metadata": {},
   "source": [
    "### 8.1.5 Exercises (#5-1)"
   ]
  },
  {
   "cell_type": "code",
   "execution_count": null,
   "metadata": {},
   "outputs": [],
   "source": [
    "class SimpleAlexNet(d2l.Classifier):\n",
    "    \"\"\"Simple AlexNet model.\"\"\"\n",
    "    def __init__(self, lr=0.1, num_classes=10):\n",
    "        super().__init__()\n",
    "        self.save_hyperparameters()\n",
    "        self.net = nn.Sequential(\n",
    "            nn.Conv2d(16, kernel_size=3, padding=1),\n",
    "            nn.ReLU(),\n",
    "            nn.MaxPool2d(kernel_size=2, stride=2),\n",
    "            nn.Flatten(),\n",
    "            nn.Linear(256),\n",
    "            nn.ReLU(),\n",
    "            nn.Linear(num_classes)\n",
    "        )\n",
    "        self.net.apply(d2l.init_cnn)"
   ]
  },
  {
   "cell_type": "code",
   "execution_count": null,
   "metadata": {},
   "outputs": [],
   "source": [
    "model_SimpleAlex_10 = SimpleAlexNet(lr=0.01)\n",
    "trainer = d2l.Trainer(max_epochs=10, num_gpus=1)\n",
    "trainer.fit(model_SimpleAlex_10, data)\n",
    "acc_SimpleAlex_10 = model_SimpleAlex_10.board.data['val_acc'][-1].y\n",
    "plt.title(f\"Simple AlexNet (10 epochs): {acc_SimpleAlex_10*100:.2f}%\")\n",
    "plt.xlabel('Number of Epochs')\n",
    "plt.ylabel('Loss/Accuracy')\n",
    "plt.show()"
   ]
  },
  {
   "cell_type": "markdown",
   "metadata": {},
   "source": [
    "### 8.1.5 Exercises (#5-2)"
   ]
  },
  {
   "cell_type": "code",
   "execution_count": null,
   "metadata": {},
   "outputs": [],
   "source": [
    "class BetterAlexNet(d2l.Classifier):\n",
    "    \"\"\"AlexNet model for 28x28 images.\"\"\"\n",
    "    def __init__(self, lr=0.1, num_classes=10):\n",
    "        super().__init__()\n",
    "        self.save_hyperparameters()\n",
    "        self.net = nn.Sequential(\n",
    "            nn.Conv2d(16, kernel_size=3, padding=1),\n",
    "            nn.ReLU(),\n",
    "            nn.MaxPool2d(kernel_size=2, stride=2),\n",
    "            nn.Conv2d(32, kernel_size=3, padding=1),\n",
    "            nn.ReLU(),\n",
    "            nn.MaxPool2d(kernel_size=2, stride=2),\n",
    "            nn.Conv2d(64, kernel_size=3, padding=1),\n",
    "            nn.ReLU(),\n",
    "            nn.Flatten(),\n",
    "            nn.Linear(128),\n",
    "            nn.ReLU(),\n",
    "            nn.Linear(num_classes)\n",
    "        )\n",
    "        self.net.apply(d2l.init_cnn)"
   ]
  },
  {
   "cell_type": "code",
   "execution_count": null,
   "metadata": {},
   "outputs": [],
   "source": [
    "model_BetterAlex_10 = BetterAlexNet(lr=0.01)\n",
    "trainer = d2l.Trainer(max_epochs=10, num_gpus=1)\n",
    "trainer.fit(model_BetterAlex_10, data)\n",
    "acc_BetterAlex_10 = model_BetterAlex_10.board.data['val_acc'][-1].y\n",
    "plt.title(f\"Better AlexNet (10 epochs): {acc_BetterAlex_10*100:.2f}%\")\n",
    "plt.xlabel('Number of Epochs')\n",
    "plt.ylabel('Loss/Accuracy')\n",
    "plt.show()"
   ]
  }
 ],
 "metadata": {
  "kernelspec": {
   "display_name": "Python 3.9.12 ('base')",
   "language": "python",
   "name": "python3"
  },
  "language_info": {
   "codemirror_mode": {
    "name": "ipython",
    "version": 3
   },
   "file_extension": ".py",
   "mimetype": "text/x-python",
   "name": "python",
   "nbconvert_exporter": "python",
   "pygments_lexer": "ipython3",
   "version": "3.9.12"
  },
  "orig_nbformat": 4,
  "vscode": {
   "interpreter": {
    "hash": "a92526385d613339fdfc3220bd081595a0042773833489b7647304f7dd79b12e"
   }
  }
 },
 "nbformat": 4,
 "nbformat_minor": 2
}
